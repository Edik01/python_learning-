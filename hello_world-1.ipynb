{
 "cells": [
  {
   "cell_type": "markdown",
   "id": "11ddc16651ae1a5d",
   "metadata": {
    "collapsed": false
   },
   "source": [
    "# Hello World, and Hello Python!\n",
    "\n",
    "We can write code in Code Cells, and make notes about our code in Markdown Cells.\n",
    "\n",
    "The cell below has Python code in it.\n",
    "\n",
    "Click the code cell below, then\n",
    "1. Change \"Hello World!\" to \"Hello Python!\" (It's just like writing in Microsoft Word or Google Sheets) \n",
    "2. Press Shift + Enter to run the code"
   ]
  },
  {
   "cell_type": "code",
   "execution_count": 1,
   "id": "initial_id",
   "metadata": {
    "ExecuteTime": {
     "end_time": "2025-02-27T19:19:59.980003Z",
     "start_time": "2025-02-27T19:19:59.975679Z"
    },
    "collapsed": false
   },
   "outputs": [
    {
     "name": "stdout",
     "output_type": "stream",
     "text": [
      "Hello Python!\n"
     ]
    }
   ],
   "source": [
    "print(\"Hello Python!\")"
   ]
  },
  {
   "cell_type": "markdown",
   "id": "ff04ee94606c4c19",
   "metadata": {
    "collapsed": false
   },
   "source": [
    "Once you see ***Hello Python!*** twice, take a screenshot and submit it!"
   ]
  },
  {
   "cell_type": "code",
   "execution_count": null,
   "id": "e9a993b1d54d0fe8",
   "metadata": {},
   "outputs": [],
   "source": []
  }
 ],
 "metadata": {
  "kernelspec": {
   "display_name": "Python 3",
   "language": "python",
   "name": "python3"
  },
  "language_info": {
   "codemirror_mode": {
    "name": "ipython",
    "version": 3
   },
   "file_extension": ".py",
   "mimetype": "text/x-python",
   "name": "python",
   "nbconvert_exporter": "python",
   "pygments_lexer": "ipython3",
   "version": "3.13.0"
  }
 },
 "nbformat": 4,
 "nbformat_minor": 5
}
